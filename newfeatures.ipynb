{
  "nbformat": 4,
  "nbformat_minor": 0,
  "metadata": {
    "colab": {
      "provenance": [],
      "authorship_tag": "ABX9TyMIywPLe8Hz7B0Pcns6I7S2"
    },
    "kernelspec": {
      "name": "python3",
      "display_name": "Python 3"
    },
    "language_info": {
      "name": "python"
    }
  },
  "cells": [
    {
      "cell_type": "code",
      "execution_count": 1,
      "metadata": {
        "colab": {
          "base_uri": "https://localhost:8080/",
          "height": 876
        },
        "id": "l5yUArADhn6e",
        "outputId": "3e02886b-5bc4-4d01-adb0-bfa9f46c4c88"
      },
      "outputs": [
        {
          "output_type": "stream",
          "name": "stdout",
          "text": [
            "Cross-Validation Scores: [0.72081218 0.74365482 0.74045802 0.72010178 0.69720102]\n",
            "Average Cross-Validation Accuracy: 0.7244455638651012\n",
            "Classification Report (Test Set):\n",
            "              precision    recall  f1-score   support\n",
            "\n",
            "           0       0.74      0.71      0.72       246\n",
            "           1       0.72      0.75      0.74       246\n",
            "\n",
            "    accuracy                           0.73       492\n",
            "   macro avg       0.73      0.73      0.73       492\n",
            "weighted avg       0.73      0.73      0.73       492\n",
            "\n",
            "Feature Importances:\n",
            "  Feature  Importance\n",
            "0     PTS    0.395828\n",
            "1     REB    0.248730\n",
            "2     AST    0.196619\n",
            "3     STL    0.158823\n"
          ]
        },
        {
          "output_type": "display_data",
          "data": {
            "text/plain": [
              "<Figure size 1000x600 with 1 Axes>"
            ],
            "image/png": "[encoded data removed]"
          },
          "metadata": {}
        }
      ],
      "source": [
        "\n",
        "import pandas as pd\n",
        "import matplotlib.pyplot as plt\n",
        "import seaborn as sns\n",
        "from sklearn.model_selection import train_test_split, cross_val_score\n",
        "from sklearn.ensemble import RandomForestClassifier\n",
        "from sklearn.metrics import classification_report\n",
        "from sklearn.preprocessing import StandardScaler\n",
        "\n",
        "data = pd.read_excel(\"Dataset.xlsx\")\n",
        "\n",
        "# data preprocessing\n",
        "data[\"W/L\"] = data[\"W/L\"].map({\"W\": 1, \"L\": 0})\n",
        "data[\"FT%\"] = pd.to_numeric(data[\"FT%\"], errors=\"coerce\")\n",
        "data = data.dropna()\n",
        "\n",
        "# features\n",
        "data[\"PTS_REB\"] = data[\"PTS\"] * data[\"REB\"]\n",
        "# interaction between points and rebounds\n",
        "data[\"AST_STL\"] = data[\"AST\"] * data[\"STL\"]\n",
        "# interaction between assists and steals\n",
        "data[\"Rolling_PTS_Mean\"] = data.groupby(\"Team\")[\"PTS\"].transform(lambda x: x.rolling(window=3, min_periods=1).mean())\n",
        "# rolling points average across last three games\n",
        "data[\"Rolling_REB_Mean\"] = data.groupby(\"Team\")[\"REB\"].transform(lambda x: x.rolling(window=3, min_periods=1).mean())\n",
        "# rolling rebounds average across last three games\n",
        "\n",
        "# scaling\n",
        "scaler = StandardScaler()\n",
        "numeric_features = data.select_dtypes(include=[\"number\"]).columns.drop(\"W/L\")\n",
        "data[numeric_features] = scaler.fit_transform(data[numeric_features])\n",
        "\n",
        "# simplified dataset\n",
        "key_features = [\"PTS\", \"REB\", \"AST\", \"STL\"]  # +/- was source of wonky accuracy metrics in the other notebook\n",
        "X = data[key_features]\n",
        "y = data[\"W/L\"]\n",
        "\n",
        "# training and testing sets\n",
        "X_train, X_test, y_train, y_test = train_test_split(X, y, test_size=0.2, random_state=42, stratify=y)\n",
        "\n",
        "# train the RF model\n",
        "rf = RandomForestClassifier(random_state=42)\n",
        "rf.fit(X_train, y_train)\n",
        "\n",
        "# cross validation\n",
        "cv_scores = cross_val_score(rf, X_train, y_train, cv=5, scoring=\"accuracy\")\n",
        "print(\"Cross-Validation Scores:\", cv_scores)\n",
        "print(\"Average Cross-Validation Accuracy:\", cv_scores.mean())\n",
        "\n",
        "# evaluation on test set\n",
        "y_pred = rf.predict(X_test)\n",
        "classification_report_rf = classification_report(y_test, y_pred)\n",
        "print(\"Classification Report (Test Set):\")\n",
        "print(classification_report_rf)\n",
        "\n",
        "# feature importances\n",
        "feature_importances = pd.DataFrame({\n",
        "    \"Feature\": X.columns,\n",
        "    \"Importance\": rf.feature_importances_\n",
        "}).sort_values(by=\"Importance\", ascending=False)\n",
        "print(\"Feature Importances:\")\n",
        "print(feature_importances)\n",
        "\n",
        "# feature importances bar chart\n",
        "plt.figure(figsize=(10, 6))\n",
        "sns.barplot(x=\"Importance\", y=\"Feature\", data=feature_importances)\n",
        "plt.title(\"Feature Importances\")\n",
        "plt.show()\n"
      ]
    }
  ]
}